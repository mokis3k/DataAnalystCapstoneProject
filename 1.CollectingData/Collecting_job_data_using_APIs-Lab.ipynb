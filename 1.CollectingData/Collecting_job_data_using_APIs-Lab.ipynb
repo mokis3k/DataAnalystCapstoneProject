{
 "cells": [
  {
   "cell_type": "markdown",
   "metadata": {},
   "source": [
    "<p style=\"text-align:center\">\n",
    "    <a href=\"https://skills.network\" target=\"_blank\">\n",
    "    <img src=\"https://cf-courses-data.s3.us.cloud-object-storage.appdomain.cloud/assets/logos/SN_web_lightmode.png\" width=\"200\" alt=\"Skills Network Logo\">\n",
    "    </a>\n",
    "</p>\n"
   ]
  },
  {
   "cell_type": "markdown",
   "metadata": {},
   "source": [
    "# **Collecting Job Data Using APIs**\n"
   ]
  },
  {
   "cell_type": "markdown",
   "metadata": {},
   "source": [
    "Estimated time needed: **30** minutes\n"
   ]
  },
  {
   "cell_type": "markdown",
   "metadata": {},
   "source": [
    "## Objectives\n"
   ]
  },
  {
   "cell_type": "markdown",
   "metadata": {},
   "source": [
    "After completing this lab, you will be able to:\n"
   ]
  },
  {
   "cell_type": "markdown",
   "metadata": {},
   "source": [
    "*   Collect job data using Jobs API\n",
    "*   Store the collected data into an excel spreadsheet.\n"
   ]
  },
  {
   "cell_type": "markdown",
   "metadata": {},
   "source": [
    "><strong>Note: Before starting with the assignment make sure to read all the instructions and then move ahead with the coding part.</strong>\n"
   ]
  },
  {
   "cell_type": "markdown",
   "metadata": {},
   "source": [
    "#### Instructions\n"
   ]
  },
  {
   "cell_type": "markdown",
   "metadata": {},
   "source": [
    "To run the actual lab, firstly you need to click on the [Jobs_API](https://cf-courses-data.s3.us.cloud-object-storage.appdomain.cloud/IBM-DA0321EN-SkillsNetwork/labs/module%201/Accessing%20Data%20Using%20APIs/Jobs_API.ipynb) notebook link. The file contains flask code which is required to run the Jobs API data.\n",
    "\n",
    "Now, to run the code in the file that opens up follow the below steps.\n",
    "\n",
    "Step1: Download the file. \n",
    "\n",
    "Step2: Upload the file into your current Jupyter environment using the upload button in your Jupyter interface. Ensure that the file is in the same folder as your working .ipynb file.\n",
    "\n",
    "Step 2: If working in a local Jupyter environment, use the \"Upload\" button in your Jupyter interface to upload the Jobs_API notebook into the same folder as your current .ipynb file.\n",
    "\n",
    "<img src=\"https://cf-courses-data.s3.us.cloud-object-storage.appdomain.cloud/IBM-DA0321EN-SkillsNetwork/labs/module%201/Accessing%20Data%20Using%20APIs/Upload.PNG\">\n",
    "\n",
    "Step3:  Open the Jobs_API notebook, and run all the cells to start the Flask application. Once the server is running, you can access the API from the URL provided in the notebook.\n",
    "\n",
    "If you want to learn more about flask, which is optional, you can click on this link [here](https://cf-courses-data.s3.us.cloud-object-storage.appdomain.cloud/IBM-DA0321EN-SkillsNetwork/labs/module%201/Accessing%20Data%20Using%20APIs/FLASK_API.md.html).\n",
    "\n",
    "Once you run the flask code, you can start with your assignment.\n"
   ]
  },
  {
   "cell_type": "markdown",
   "metadata": {},
   "source": [
    "## Dataset Used in this Assignment\n",
    "\n",
    "The dataset used in this lab comes from the following source: https://www.kaggle.com/promptcloud/jobs-on-naukricom under the under a **Public Domain license**.\n",
    "\n",
    "> Note: We are using a modified subset of that dataset for the lab, so to follow the lab instructions successfully please use the dataset provided with the lab, rather than the dataset from the original source.\n",
    "\n",
    "The original dataset is a csv. We have converted the csv to json as per the requirement of the lab.\n"
   ]
  },
  {
   "cell_type": "markdown",
   "metadata": {},
   "source": [
    "## Lab: Collect Jobs Data using Jobs API\n"
   ]
  },
  {
   "cell_type": "markdown",
   "metadata": {},
   "source": [
    "### Objective: Determine the number of jobs currently open for various technologies  and for various locations\n"
   ]
  },
  {
   "cell_type": "markdown",
   "metadata": {},
   "source": [
    "Collect the number of job postings for the following locations using the API:\n",
    "\n",
    "* Los Angeles\n",
    "* New York\n",
    "* San Francisco\n",
    "* Washington DC\n",
    "* Seattle\n",
    "* Austin\n",
    "* Detroit\n"
   ]
  },
  {
   "cell_type": "code",
   "execution_count": 11,
   "metadata": {
    "tags": []
   },
   "outputs": [],
   "source": [
    "import pandas as pd\n",
    "import json\n"
   ]
  },
  {
   "cell_type": "markdown",
   "metadata": {},
   "source": [
    "Write a function to get the number of jobs for the Python technology.<br>\n",
    "  \n",
    " ##### The keys in the json are \n",
    " * Job Title\n",
    " \n",
    " * Job Experience Required\n",
    " \n",
    " * Key Skills\n",
    " \n",
    " * Role Category\n",
    " \n",
    " * Location\n",
    " \n",
    " * Functional Area\n",
    " \n",
    " * Industry\n",
    " \n",
    " * Role \n",
    " \n",
    "You can also view  the json file contents  from the following <a href = \"https://cf-courses-data.s3.us.cloud-object-storage.appdomain.cloud/IBM-DA0321EN-SkillsNetwork/labs/module%201/Accessing%20Data%20Using%20APIs/jobs.json\">json</a> URL.\n",
    "\n"
   ]
  },
  {
   "cell_type": "code",
   "execution_count": 12,
   "metadata": {
    "tags": []
   },
   "outputs": [],
   "source": [
    "api_url=\"http://127.0.0.1:5000/data/all\"\n",
    "df = pd.read_json(api_url)"
   ]
  },
  {
   "cell_type": "code",
   "execution_count": 13,
   "metadata": {
    "tags": []
   },
   "outputs": [
    {
     "data": {
      "text/html": [
       "<div>\n",
       "<style scoped>\n",
       "    .dataframe tbody tr th:only-of-type {\n",
       "        vertical-align: middle;\n",
       "    }\n",
       "\n",
       "    .dataframe tbody tr th {\n",
       "        vertical-align: top;\n",
       "    }\n",
       "\n",
       "    .dataframe thead th {\n",
       "        text-align: right;\n",
       "    }\n",
       "</style>\n",
       "<table border=\"1\" class=\"dataframe\">\n",
       "  <thead>\n",
       "    <tr style=\"text-align: right;\">\n",
       "      <th></th>\n",
       "      <th>Functional Area</th>\n",
       "      <th>Id</th>\n",
       "      <th>Industry</th>\n",
       "      <th>Job Experience Required</th>\n",
       "      <th>Job Title</th>\n",
       "      <th>Key Skills</th>\n",
       "      <th>Location</th>\n",
       "      <th>Role</th>\n",
       "      <th>Role Category</th>\n",
       "    </tr>\n",
       "  </thead>\n",
       "  <tbody>\n",
       "    <tr>\n",
       "      <th>0</th>\n",
       "      <td>Marketing , Advertising , MR , PR , Media Plan...</td>\n",
       "      <td>0</td>\n",
       "      <td>Advertising, PR, MR, Event Management</td>\n",
       "      <td>5 - 10 yrs</td>\n",
       "      <td>Digital Media Planner</td>\n",
       "      <td>Media Planning| Digital Media</td>\n",
       "      <td>Los Angeles</td>\n",
       "      <td>Media Planning Executive/Manager</td>\n",
       "      <td>Advertising</td>\n",
       "    </tr>\n",
       "    <tr>\n",
       "      <th>1</th>\n",
       "      <td>Sales , Retail , Business Development</td>\n",
       "      <td>1</td>\n",
       "      <td>IT-Software, Software Services</td>\n",
       "      <td>2 - 5 yrs</td>\n",
       "      <td>Online Bidding Executive</td>\n",
       "      <td>pre sales| closing| software knowledge| client...</td>\n",
       "      <td>New York</td>\n",
       "      <td>Sales Executive/Officer</td>\n",
       "      <td>Retail Sales</td>\n",
       "    </tr>\n",
       "    <tr>\n",
       "      <th>2</th>\n",
       "      <td>Engineering Design , R&amp;D</td>\n",
       "      <td>2</td>\n",
       "      <td>Recruitment, Staffing</td>\n",
       "      <td>0 - 1 yrs</td>\n",
       "      <td>Trainee Research/ Research Executive- Hi- Tech...</td>\n",
       "      <td>Computer science| Fabrication| Quality check| ...</td>\n",
       "      <td>San Francisco</td>\n",
       "      <td>R&amp;D Executive</td>\n",
       "      <td>R&amp;D</td>\n",
       "    </tr>\n",
       "    <tr>\n",
       "      <th>3</th>\n",
       "      <td>IT Software - Application Programming , Mainte...</td>\n",
       "      <td>3</td>\n",
       "      <td>IT-Software, Software Services</td>\n",
       "      <td>0 - 5 yrs</td>\n",
       "      <td>Technical Support</td>\n",
       "      <td>Technical Support</td>\n",
       "      <td>Washington DC</td>\n",
       "      <td>Technical Support Engineer</td>\n",
       "      <td>Admin/Maintenance/Security/Datawarehousing</td>\n",
       "    </tr>\n",
       "    <tr>\n",
       "      <th>4</th>\n",
       "      <td>IT Software - QA &amp; Testing</td>\n",
       "      <td>4</td>\n",
       "      <td>IT-Software, Software Services</td>\n",
       "      <td>2 - 5 yrs</td>\n",
       "      <td>Software Test Engineer -hyderabad</td>\n",
       "      <td>manual testing| test engineering| test cases| ...</td>\n",
       "      <td>Boston</td>\n",
       "      <td>Testing Engineer</td>\n",
       "      <td>Programming &amp; Design</td>\n",
       "    </tr>\n",
       "  </tbody>\n",
       "</table>\n",
       "</div>"
      ],
      "text/plain": [
       "                                     Functional Area  Id  \\\n",
       "0  Marketing , Advertising , MR , PR , Media Plan...   0   \n",
       "1              Sales , Retail , Business Development   1   \n",
       "2                           Engineering Design , R&D   2   \n",
       "3  IT Software - Application Programming , Mainte...   3   \n",
       "4                         IT Software - QA & Testing   4   \n",
       "\n",
       "                                Industry Job Experience Required  \\\n",
       "0  Advertising, PR, MR, Event Management              5 - 10 yrs   \n",
       "1         IT-Software, Software Services               2 - 5 yrs   \n",
       "2                  Recruitment, Staffing               0 - 1 yrs   \n",
       "3         IT-Software, Software Services               0 - 5 yrs   \n",
       "4         IT-Software, Software Services               2 - 5 yrs   \n",
       "\n",
       "                                           Job Title  \\\n",
       "0                              Digital Media Planner   \n",
       "1                           Online Bidding Executive   \n",
       "2  Trainee Research/ Research Executive- Hi- Tech...   \n",
       "3                                  Technical Support   \n",
       "4                  Software Test Engineer -hyderabad   \n",
       "\n",
       "                                          Key Skills       Location  \\\n",
       "0                      Media Planning| Digital Media    Los Angeles   \n",
       "1  pre sales| closing| software knowledge| client...       New York   \n",
       "2  Computer science| Fabrication| Quality check| ...  San Francisco   \n",
       "3                                  Technical Support  Washington DC   \n",
       "4  manual testing| test engineering| test cases| ...         Boston   \n",
       "\n",
       "                               Role  \\\n",
       "0  Media Planning Executive/Manager   \n",
       "1           Sales Executive/Officer   \n",
       "2                     R&D Executive   \n",
       "3        Technical Support Engineer   \n",
       "4                  Testing Engineer   \n",
       "\n",
       "                                Role Category  \n",
       "0                                 Advertising  \n",
       "1                                Retail Sales  \n",
       "2                                         R&D  \n",
       "3  Admin/Maintenance/Security/Datawarehousing  \n",
       "4                        Programming & Design  "
      ]
     },
     "execution_count": 13,
     "metadata": {},
     "output_type": "execute_result"
    }
   ],
   "source": [
    "df.head()"
   ]
  },
  {
   "cell_type": "code",
   "execution_count": 14,
   "metadata": {
    "tags": []
   },
   "outputs": [
    {
     "data": {
      "text/plain": [
       "Functional Area            object\n",
       "Id                          int64\n",
       "Industry                   object\n",
       "Job Experience Required    object\n",
       "Job Title                  object\n",
       "Key Skills                 object\n",
       "Location                   object\n",
       "Role                       object\n",
       "Role Category              object\n",
       "dtype: object"
      ]
     },
     "execution_count": 14,
     "metadata": {},
     "output_type": "execute_result"
    }
   ],
   "source": [
    "df.dtypes"
   ]
  },
  {
   "cell_type": "code",
   "execution_count": 29,
   "metadata": {
    "tags": []
   },
   "outputs": [],
   "source": [
    "def get_number_of_jobs_T(technology):\n",
    "    tech_df = df[df[\"Key Skills\"].str.contains(technology, regex=False)]\n",
    "    return technology, len(tech_df.index)"
   ]
  },
  {
   "cell_type": "code",
   "execution_count": 30,
   "metadata": {
    "tags": []
   },
   "outputs": [
    {
     "data": {
      "text/plain": [
       "('Python', 1173)"
      ]
     },
     "execution_count": 30,
     "metadata": {},
     "output_type": "execute_result"
    }
   ],
   "source": [
    "get_number_of_jobs_T(\"Python\")"
   ]
  },
  {
   "cell_type": "code",
   "execution_count": 31,
   "metadata": {
    "tags": []
   },
   "outputs": [],
   "source": [
    "def get_number_of_jobs_L(location):\n",
    "\n",
    "    loc_df = df[df[\"Location\"].str.contains(location)]\n",
    "    return location, len(loc_df.index)"
   ]
  },
  {
   "cell_type": "code",
   "execution_count": 32,
   "metadata": {
    "tags": []
   },
   "outputs": [
    {
     "data": {
      "text/plain": [
       "('Los Angeles', 640)"
      ]
     },
     "execution_count": 32,
     "metadata": {},
     "output_type": "execute_result"
    }
   ],
   "source": [
    "get_number_of_jobs_L(\"Los Angeles\")"
   ]
  },
  {
   "cell_type": "markdown",
   "metadata": {},
   "source": [
    "### Store the results in an excel file\n"
   ]
  },
  {
   "cell_type": "code",
   "execution_count": 33,
   "metadata": {
    "tags": []
   },
   "outputs": [],
   "source": [
    "locs = [\n",
    "    \"Los Angeles\",\n",
    "    \"New York\",\n",
    "    \"San Francisco\",\n",
    "    \"Washington DC\",\n",
    "    \"Seattle\",\n",
    "    \"Austin\",\n",
    "    \"Detroit\",\n",
    "]"
   ]
  },
  {
   "cell_type": "code",
   "execution_count": 34,
   "metadata": {
    "tags": []
   },
   "outputs": [],
   "source": [
    "loc_tuples = []\n",
    "for loc in locs:\n",
    "    loc_tuples.append(get_number_of_jobs_L(loc))\n",
    "\n",
    "loc_df = pd.DataFrame(loc_tuples, columns=[\"Location\", \"Number of Jobs\"])\n",
    "loc_df.set_index(\"Location\", inplace=True)"
   ]
  },
  {
   "cell_type": "code",
   "execution_count": 25,
   "metadata": {
    "tags": []
   },
   "outputs": [
    {
     "name": "stdout",
     "output_type": "stream",
     "text": [
      "Collecting openpyxl\n",
      "  Downloading openpyxl-3.1.3-py2.py3-none-any.whl (251 kB)\n",
      "\u001b[2K     \u001b[90m━━━━━━━━━━━━━━━━━━━━━━━━━━━━━━━━━━━━━━\u001b[0m \u001b[32m251.3/251.3 kB\u001b[0m \u001b[31m22.3 MB/s\u001b[0m eta \u001b[36m0:00:00\u001b[0m\n",
      "\u001b[?25hCollecting et-xmlfile (from openpyxl)\n",
      "  Downloading et_xmlfile-1.1.0-py3-none-any.whl (4.7 kB)\n",
      "Installing collected packages: et-xmlfile, openpyxl\n",
      "Successfully installed et-xmlfile-1.1.0 openpyxl-3.1.3\n"
     ]
    }
   ],
   "source": [
    "!pip install openpyxl"
   ]
  },
  {
   "cell_type": "code",
   "execution_count": 35,
   "metadata": {
    "tags": []
   },
   "outputs": [],
   "source": [
    "loc_df.to_excel(\"job-postings.xlsx\", sheet_name=\"location\")"
   ]
  },
  {
   "cell_type": "markdown",
   "metadata": {},
   "source": [
    "#### In the similar way, you can try for below given technologies and results  can be stored in an excel sheet.\n"
   ]
  },
  {
   "cell_type": "markdown",
   "metadata": {},
   "source": [
    "Collect the number of job postings for the following languages using the API:\n",
    "\n",
    "*   C\n",
    "*   C#\n",
    "*   C++\n",
    "*   Java\n",
    "*   JavaScript\n",
    "*   Python\n",
    "*   Scala\n",
    "*   Oracle\n",
    "*   SQL Server\n",
    "*   MySQL Server\n",
    "*   PostgreSQL\n",
    "*   MongoDB\n"
   ]
  },
  {
   "cell_type": "code",
   "execution_count": 36,
   "metadata": {
    "tags": []
   },
   "outputs": [],
   "source": [
    "techs = [\n",
    "    \"C\",\n",
    "    \"C#\",\n",
    "    \"C++\",\n",
    "    \"Java\",\n",
    "    \"JavaScript\",\n",
    "    \"Python\",\n",
    "    \"Scala\",\n",
    "    \"Oracle\",\n",
    "    \"SQL Server\",\n",
    "    \"MySQL Server\",\n",
    "    \"PostgreSQL\",\n",
    "    \"MongoDB\",\n",
    "]\n",
    "\n",
    "\n",
    "tech_tuples = []\n",
    "for tech in techs:\n",
    "    tech_tuples.append(get_number_of_jobs_T(tech))\n",
    "\n",
    "tech_df = pd.DataFrame(tech_tuples, columns=[\"Technology\", \"Number of Jobs\"])\n",
    "tech_df.set_index(\"Technology\", inplace=True)"
   ]
  },
  {
   "cell_type": "code",
   "execution_count": 37,
   "metadata": {
    "tags": []
   },
   "outputs": [],
   "source": [
    "# add dataframe to the same excel workbook but to another sheet \n",
    "excel_path =\"job-postings.xlsx\"\n",
    "with pd.ExcelWriter(\n",
    "    excel_path, engine=\"openpyxl\", mode=\"a\", if_sheet_exists=\"replace\"\n",
    ") as writer:\n",
    "    tech_df.to_excel(writer, sheet_name=\"technology\")"
   ]
  },
  {
   "cell_type": "markdown",
   "metadata": {},
   "source": [
    "## Authors\n"
   ]
  },
  {
   "cell_type": "markdown",
   "metadata": {},
   "source": [
    "Ayushi Jain\n"
   ]
  },
  {
   "cell_type": "markdown",
   "metadata": {},
   "source": [
    "### Other Contributors\n"
   ]
  },
  {
   "cell_type": "markdown",
   "metadata": {},
   "source": [
    "Rav Ahuja\n",
    "\n",
    "Lakshmi Holla\n",
    "\n",
    "Malika\n"
   ]
  },
  {
   "cell_type": "markdown",
   "metadata": {},
   "source": [
    "Copyright © IBM Corporation.\n"
   ]
  },
  {
   "cell_type": "markdown",
   "metadata": {},
   "source": [
    "<!--## Change Log\n"
   ]
  },
  {
   "cell_type": "markdown",
   "metadata": {},
   "source": [
    "<!--| Date (YYYY-MM-DD) | Version | Changed By        | Change Description                 |\n",
    "| ----------------- | ------- | ----------------- | ---------------------------------- | \n",
    "| 2022-01-19        | 0.3     | Lakshmi Holla        | Added changes in the markdown      |\n",
    "| 2021-06-25        | 0.2     | Malika            | Updated GitHub job json link       |\n",
    "| 2020-10-17        | 0.1     | Ramesh Sannareddy | Created initial version of the lab |--!>\n"
   ]
  }
 ],
 "metadata": {
  "kernelspec": {
   "display_name": "Python",
   "language": "python",
   "name": "conda-env-python-py"
  },
  "language_info": {
   "codemirror_mode": {
    "name": "ipython",
    "version": 3
   },
   "file_extension": ".py",
   "mimetype": "text/x-python",
   "name": "python",
   "nbconvert_exporter": "python",
   "pygments_lexer": "ipython3",
   "version": "3.7.12"
  },
  "prev_pub_hash": "61a35a07ad98492b710274ae0e52a0fdce2221e88e366133dd4a20370680fa8f"
 },
 "nbformat": 4,
 "nbformat_minor": 4
}
